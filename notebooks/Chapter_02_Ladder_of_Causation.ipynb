{
 "cells": [
  {
   "cell_type": "markdown",
   "metadata": {},
   "source": [
    "# **Judea Pearl and the Ladder of Causation**\n",
    "\n",
    "## The Ladder of Causation:\n",
    "\n",
    "1. Rung 1: **Association** -> Observing -> \"*How does observing X change my belief in Y?*\";\n",
    "2. Rung 2: **Intervention** -> Doing -> \"*What will happen to Y if I do X?*\";\n",
    "3. Rung 3: **Counterfactual** -> Imagining -> \"*If I had done X, what would Y be?*\"."
   ]
  },
  {
   "cell_type": "code",
   "execution_count": null,
   "metadata": {
    "vscode": {
     "languageId": "plaintext"
    }
   },
   "outputs": [],
   "source": []
  }
 ],
 "metadata": {
  "language_info": {
   "name": "python"
  }
 },
 "nbformat": 4,
 "nbformat_minor": 2
}
